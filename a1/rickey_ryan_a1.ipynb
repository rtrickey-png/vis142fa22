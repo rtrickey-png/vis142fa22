{
 "cells": [
  {
   "cell_type": "markdown",
   "metadata": {},
   "source": [
    "# Taking a Picture of a Tree but It's Windy and Its Leaves Are Randomly Falling\n",
    "## Ryan Rickey\n",
    "### VIS 142 FA 2022 - A05 - Coral Pereda"
   ]
  },
  {
   "cell_type": "markdown",
   "metadata": {},
   "source": [
    "Start with generating an image:"
   ]
  },
  {
   "cell_type": "code",
   "execution_count": null,
   "metadata": {},
   "outputs": [],
   "source": [
    "# code edited from https://pythonguides.com/fractal-python-turtle/\n",
    "from turtle import *\n",
    "import turtle\n",
    "\n",
    "speed('fastest')\n",
    "\n",
    "right(-90)\n",
    "angle = 30\n",
    "\n",
    "def yaxis(size, lvl):\n",
    "    if lvl > 0:\n",
    "        colormode(255)\n",
    "        pencolor(255 // lvl**2, 255 // lvl, 255 // (lvl*3 % 255))\n",
    "        forward(size)\n",
    "        right(angle)\n",
    "        yaxis(0.8 * size, lvl - 1)\n",
    "        pencolor(0, 255 // lvl, 0)\n",
    "        lt(2 * angle)\n",
    "        yaxis(0.8 * size, lvl-1)\n",
    "        pencolor(0, 255 // lvl, 0)\n",
    "        right(angle)\n",
    "        forward(-size)\n",
    "yaxis(44, 10)\n",
    "turtle.done()"
   ]
  },
  {
   "cell_type": "markdown",
   "metadata": {},
   "source": [
    "See 'rickey_in1.png' for the result of this code.\n"
   ]
  },
  {
   "cell_type": "code",
   "execution_count": 3,
   "metadata": {},
   "outputs": [],
   "source": [
    "from PIL import Image\n",
    "import numpy\n",
    "from numpy import asarray\n",
    "import random\n",
    "import png\n",
    "from Chunk import Chunk\n",
    "\n",
    "image = Image.open('rickey_in1.png')\n",
    "\n",
    "treedata = asarray(image)\n",
    "# print(treedata.shape)\n",
    "# 450 x 512 original input size\n",
    "\n",
    "# arbitrary size of output\n",
    "width = 300\n",
    "height = 300\n",
    "\n",
    "imagedata = []\n",
    "transform = 0\n",
    "\n",
    "# flip a coin to blur image\n",
    "blur = random.randint(0, 1)\n",
    "if blur == 0:\n",
    "    pad = random.randint(0, len(treedata[0])) % 100\n",
    "# else reset pad in the loop\n",
    "for h in range(height):\n",
    "    row = []\n",
    "    for w in range(width):\n",
    "    \t# reset pad each iteration to create a blur effect\n",
    "        if blur == 1:\n",
    "            pad = random.randint(0, len(treedata[0])) % 100\n",
    "        for x in treedata[h,(w + pad + 40),:3]:\n",
    "            if x == 0:\n",
    "                transform = h + random.randint(0, h //2)\n",
    "            row.append((x + transform) % 256)\n",
    "    imagedata.append(row)\n"
   ]
  },
  {
   "cell_type": "markdown",
   "metadata": {},
   "source": [
    "A function to check if we're going to go out of bounds of the image, and if so returns a new value that won't. Otherwise it keeps the value the same."
   ]
  },
  {
   "cell_type": "code",
   "execution_count": 4,
   "metadata": {},
   "outputs": [],
   "source": [
    "def round_dims(max_dim, start_dim, dim):\n",
    "\tif start_dim + dim > max_dim:\n",
    "\t\treturn max_dim - start_dim\n",
    "\treturn dim"
   ]
  },
  {
   "cell_type": "markdown",
   "metadata": {},
   "source": [
    "This Chunk class stores four data points so we can draw the chunks more simply"
   ]
  },
  {
   "cell_type": "code",
   "execution_count": 5,
   "metadata": {},
   "outputs": [],
   "source": [
    "class Chunk:\n",
    "\th_start = 0\n",
    "\tw_start = 0\n",
    "\theight = 100\n",
    "\twidth = 100\n",
    "\t\n",
    "\tdef __init__(self, h_start, w_start, height, width):\n",
    "\t\tself.h_start = h_start\n",
    "\t\tself.w_start = w_start\n",
    "\t\tself.height = height\n",
    "\t\tself.width = width\n",
    "\t\n",
    "\tdef draw(self):\n",
    "\t\tfor h in range(height):\n",
    "\t\t\tfor w in range(width):\n",
    "\t\t\t\treturn 0\n"
   ]
  },
  {
   "cell_type": "markdown",
   "metadata": {},
   "source": [
    "Now that I have a way to store the daa for these 'chunks,' make random ones!"
   ]
  },
  {
   "cell_type": "code",
   "execution_count": 11,
   "metadata": {},
   "outputs": [
    {
     "name": "stdout",
     "output_type": "stream",
     "text": [
      "number of chunks: 19\n"
     ]
    }
   ],
   "source": [
    "# pick a random number of chunks\n",
    "# can play with this number to see how long it take the rasbperry pi to run it\n",
    "num_chunks = random.randint(1, 55)\n",
    "print('number of chunks: %d' %num_chunks)\n",
    "\n",
    "chunks = []\n",
    "for i in range(num_chunks):\n",
    "    # get a random starting pixel for the height\n",
    "\trh_start = random.randint(0, height)\n",
    "    # get a random starting pixel for the width\n",
    "\trw_start = random.randint(0, width * 3)\n",
    "    # get a random height for the chunk\n",
    "\tr_height = random.randint(1, height // 4)\n",
    "    # get a random width for the chunk\n",
    "\tr_width = random.randint(1, width * 3 // 4)\n",
    "\n",
    "    # to prevent the random h and w from going out of bounds\n",
    "\tr_height = round_dims(height, rh_start, r_height)\n",
    "\tr_width = round_dims(width*3, rw_start, r_width)\n",
    "\n",
    "    # add each chunk to a list\n",
    "\tchunks.append(Chunk(rh_start, rw_start, r_height, r_width))"
   ]
  },
  {
   "cell_type": "markdown",
   "metadata": {},
   "source": [
    "Iterate through the chunks and draw them (or don't) on top of imagedata"
   ]
  },
  {
   "cell_type": "code",
   "execution_count": 12,
   "metadata": {},
   "outputs": [],
   "source": [
    "# now iterate through chunks and draw them on top of imagedata\n",
    "for chunk in chunks:\n",
    "\tfor h in range(chunk.height):\n",
    "\t\tif h + chunk.h_start >= height: # safety\n",
    "\t\t\tbreak\n",
    "\t\tfor w in range(chunk.width):\n",
    "\t\t\tif chunk.w_start + w >= width * 3 - 3: # safety\n",
    "\t\t\t\tbreak\n",
    "\t\t\t# flip a coin to decide whether to draw over imagedata\n",
    "\t\t\ttransparent = random.randint(0, 1)\n",
    "\t\t\tif transparent == 1: # don't draw; continue\n",
    "\t\t\t\tw += 3\n",
    "\t\t\t\tcontinue\n",
    "            # otherwise, draw!\n",
    "\t\t\tfor p in range(3): # to change each R, G, B values\n",
    "\t\t\t\t# print('at [%d, %d]' %((chunk.h_start + h), (chunk.w_start + w)))\n",
    "\t\t\t\tval = random.randint(0, chunk.w_start // (chunk.h_start+1)) + h * w % 256\n",
    "\t\t\t\timagedata[chunk.h_start + h][chunk.w_start + w + p] = random.randint(0, 255)\n"
   ]
  },
  {
   "cell_type": "markdown",
   "metadata": {},
   "source": [
    "And of course, save the image!"
   ]
  },
  {
   "cell_type": "code",
   "execution_count": 13,
   "metadata": {},
   "outputs": [],
   "source": [
    "# save image\n",
    "chunkpng = png.from_array(imagedata, 'RGB').save('rickey_out1.png')"
   ]
  }
 ],
 "metadata": {
  "kernelspec": {
   "display_name": "Python 3",
   "language": "python",
   "name": "python3"
  },
  "language_info": {
   "codemirror_mode": {
    "name": "ipython",
    "version": 3
   },
   "file_extension": ".py",
   "mimetype": "text/x-python",
   "name": "python",
   "nbconvert_exporter": "python",
   "pygments_lexer": "ipython3",
   "version": "3.8.5"
  }
 },
 "nbformat": 4,
 "nbformat_minor": 4
}
